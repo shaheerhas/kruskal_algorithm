{
  "nbformat": 4,
  "nbformat_minor": 0,
  "metadata": {
    "colab": {
      "name": "Kruskal Algorithm On a Humongous data .ipynb",
      "provenance": [],
      "mount_file_id": "1GOPNOrSjve-JfchkxdaNthuc7-dfKW1B",
      "authorship_tag": "ABX9TyN7R1q5b56AhJ9snRljcU2G",
      "include_colab_link": true
    },
    "kernelspec": {
      "name": "python3",
      "display_name": "Python 3"
    }
  },
  "cells": [
    {
      "cell_type": "markdown",
      "metadata": {
        "id": "view-in-github",
        "colab_type": "text"
      },
      "source": [
        "<a href=\"https://colab.research.google.com/github/shaheerhas/kruskal_algorithm/blob/main/Kruskal_Algorithm_On_a_Humongous_data_.ipynb\" target=\"_parent\"><img src=\"https://colab.research.google.com/assets/colab-badge.svg\" alt=\"Open In Colab\"/></a>"
      ]
    },
    {
      "cell_type": "code",
      "metadata": {
        "id": "rT5LwCnU43IS",
        "colab": {
          "base_uri": "https://localhost:8080/",
          "height": 34
        },
        "outputId": "14f12cb4-78ab-4056-84ee-83d5df8f9e0b"
      },
      "source": [
        "#mounting google drive for file\n",
        "from google.colab import drive\n",
        "drive.mount('/content/drive')"
      ],
      "execution_count": null,
      "outputs": [
        {
          "output_type": "stream",
          "text": [
            "Drive already mounted at /content/drive; to attempt to forcibly remount, call drive.mount(\"/content/drive\", force_remount=True).\n"
          ],
          "name": "stdout"
        }
      ]
    },
    {
      "cell_type": "code",
      "metadata": {
        "id": "jXCMm8g69KFo"
      },
      "source": [
        "#all the necessary imports\n",
        "from zipfile import ZipFile \n",
        "import pandas as pd\n",
        "import numpy as np\n",
        "import heapq as h#minheap"
      ],
      "execution_count": null,
      "outputs": []
    },
    {
      "cell_type": "code",
      "metadata": {
        "id": "yw4Ub3IL8PJ6"
      },
      "source": [
        "#setting txt_files through the zip\n",
        "zipFilePath = \"/content/drive/My Drive/coauth-DBLP-proj-graph.zip\"\n",
        "with ZipFile(zipFilePath, 'r') as zipObj:\n",
        "  zipObj.extractall('dataset')\n",
        "import os\n",
        "rootdir = 'coauth-DBLP-proj-graph'\n",
        "files = [\"/content/dataset/coauth-DBLP-proj-graph/coauth-DBLP-node-labels.txt\",\"/content/dataset/coauth-DBLP-proj-graph/coauth-DBLP-proj-graph.txt\"] "
      ],
      "execution_count": null,
      "outputs": []
    },
    {
      "cell_type": "code",
      "metadata": {
        "id": "3H-ydyFN-fOf",
        "colab": {
          "base_uri": "https://localhost:8080/",
          "height": 204
        },
        "outputId": "dc33f609-30f9-48ea-8011-bf25e7058431"
      },
      "source": [
        "#reading files into variables\n",
        "columnNames1 = [\"i\",\"j\",\"Weight\"] \n",
        "ijWeight = pd.read_csv(open(files[\n",
        "  1]),names = columnNames1, sep=' ')\n",
        "ijWeight.head()"
      ],
      "execution_count": null,
      "outputs": [
        {
          "output_type": "execute_result",
          "data": {
            "text/html": [
              "<div>\n",
              "<style scoped>\n",
              "    .dataframe tbody tr th:only-of-type {\n",
              "        vertical-align: middle;\n",
              "    }\n",
              "\n",
              "    .dataframe tbody tr th {\n",
              "        vertical-align: top;\n",
              "    }\n",
              "\n",
              "    .dataframe thead th {\n",
              "        text-align: right;\n",
              "    }\n",
              "</style>\n",
              "<table border=\"1\" class=\"dataframe\">\n",
              "  <thead>\n",
              "    <tr style=\"text-align: right;\">\n",
              "      <th></th>\n",
              "      <th>i</th>\n",
              "      <th>j</th>\n",
              "      <th>Weight</th>\n",
              "    </tr>\n",
              "  </thead>\n",
              "  <tbody>\n",
              "    <tr>\n",
              "      <th>0</th>\n",
              "      <td>1</td>\n",
              "      <td>2</td>\n",
              "      <td>3</td>\n",
              "    </tr>\n",
              "    <tr>\n",
              "      <th>1</th>\n",
              "      <td>5</td>\n",
              "      <td>6</td>\n",
              "      <td>1</td>\n",
              "    </tr>\n",
              "    <tr>\n",
              "      <th>2</th>\n",
              "      <td>5</td>\n",
              "      <td>7</td>\n",
              "      <td>1</td>\n",
              "    </tr>\n",
              "    <tr>\n",
              "      <th>3</th>\n",
              "      <td>6</td>\n",
              "      <td>7</td>\n",
              "      <td>1</td>\n",
              "    </tr>\n",
              "    <tr>\n",
              "      <th>4</th>\n",
              "      <td>5</td>\n",
              "      <td>8</td>\n",
              "      <td>1</td>\n",
              "    </tr>\n",
              "  </tbody>\n",
              "</table>\n",
              "</div>"
            ],
            "text/plain": [
              "   i  j  Weight\n",
              "0  1  2       3\n",
              "1  5  6       1\n",
              "2  5  7       1\n",
              "3  6  7       1\n",
              "4  5  8       1"
            ]
          },
          "metadata": {
            "tags": []
          },
          "execution_count": 4
        }
      ]
    },
    {
      "cell_type": "code",
      "metadata": {
        "id": "zlqfeieKE5qt"
      },
      "source": [
        "#Creating a dictionary to  provide names given node as numbers\n",
        "#from the file node-labels\n",
        "nodeLabels = open(files[0], 'r')\n",
        "lines = nodeLabels.readlines()\n",
        "nodeNamesDict = {}\n",
        "node = label = \"\"\n",
        "j = 0\n",
        "for line in lines:\n",
        "  i=0\n",
        "  while (line[i] != ' '):\n",
        "    node += line[i]\n",
        "    i+=1\n",
        "  i+=1  \n",
        "  label = line[i:]\n",
        "  nodeNamesDict [j] = label.strip('\\n')\n",
        "  j+=1"
      ],
      "execution_count": null,
      "outputs": []
    },
    {
      "cell_type": "code",
      "metadata": {
        "id": "MgPBRanJJXix",
        "colab": {
          "base_uri": "https://localhost:8080/",
          "height": 34
        },
        "outputId": "943afa8a-833a-481a-afcd-378fffb9e679"
      },
      "source": [
        "#0th column == i i.e. first Professor node(vertice)\n",
        "#1st column == j i.e. second Professor node (vertice)\n",
        "#2nd column == weight of the edge\n",
        "# edgesWeights [0,0] will give i\n",
        "# edgesWeights [0,1] will give j\n",
        "# edgesWeights [0,2] will give weight\n",
        "edgesWeights = np.array(ijWeight)\n",
        "edgesWeights.shape\n"
      ],
      "execution_count": null,
      "outputs": [
        {
          "output_type": "execute_result",
          "data": {
            "text/plain": [
              "(7904336, 3)"
            ]
          },
          "metadata": {
            "tags": []
          },
          "execution_count": 6
        }
      ]
    },
    {
      "cell_type": "code",
      "metadata": {
        "id": "939dUee4K0jr",
        "colab": {
          "base_uri": "https://localhost:8080/",
          "height": 34
        },
        "outputId": "9f2d50cc-530a-46dd-f8b8-8c90e9e385f0"
      },
      "source": [
        "nodesLen = len( set(edgesWeights[:,0]) ) \n",
        "nodesLen"
      ],
      "execution_count": null,
      "outputs": [
        {
          "output_type": "execute_result",
          "data": {
            "text/plain": [
              "1101217"
            ]
          },
          "metadata": {
            "tags": []
          },
          "execution_count": 7
        }
      ]
    },
    {
      "cell_type": "code",
      "metadata": {
        "id": "rEoi3fnrF1k5",
        "colab": {
          "base_uri": "https://localhost:8080/",
          "height": 34
        },
        "outputId": "b8a6a835-0541-4cae-c7e2-6b3568da55bc"
      },
      "source": [
        "\n",
        "nodes = list(edgesWeights[:,0])\n",
        "for i in edgesWeights:\n",
        "  nodes.append(i[1])\n",
        "\n",
        "np.shape(nodes)\n",
        "nodes = np.unique(nodes)\n",
        "nodes.shape\n",
        "#nodes.append(np.array(ijWeight[:,1])) "
      ],
      "execution_count": null,
      "outputs": [
        {
          "output_type": "execute_result",
          "data": {
            "text/plain": [
              "(1831126,)"
            ]
          },
          "metadata": {
            "tags": []
          },
          "execution_count": 8
        }
      ]
    },
    {
      "cell_type": "code",
      "metadata": {
        "id": "q344k4USK8Ez"
      },
      "source": [
        "class Graph:\n",
        "    def __init__(self, gph ,vertices,lenNodes):\n",
        "        self.V = lenNodes\n",
        "        self.graph = gph\n",
        "        self.nodes = vertices\n",
        "\n",
        "    def add_edge(self, u, v, w):\n",
        "        self.graph.append([u, v, w])\n",
        "\n",
        "    # Search function\n",
        "\n",
        "    def find(self, parent, i):\n",
        "        #return parent[i]\n",
        "        if parent[i] == i:\n",
        "            return i\n",
        "        return self.find(parent, parent[i])\n",
        "\n",
        "    def apply_union(self, parent, rank, x, y):\n",
        "        xroot = self.find(parent, x)\n",
        "        yroot = self.find(parent, y)\n",
        "        if rank[xroot] < rank[yroot]:\n",
        "            parent[xroot] = yroot\n",
        "        elif rank[xroot] > rank[yroot]:\n",
        "            parent[yroot] = xroot\n",
        "        else:\n",
        "            parent[yroot] = xroot\n",
        "            rank[xroot] += 1\n",
        "\n",
        "    #  Applying Kruskal algorithm\n",
        "    def kruskal_algo(self):\n",
        "        result = []\n",
        "        i, e = 0, 0\n",
        "        self.graph = sorted(self.graph, key=lambda item: item[2])\n",
        "        parent = {}\n",
        "        rank = {}\n",
        "        for x in self.nodes:\n",
        "            parent.update( {x:x} )\n",
        "            rank.update( {x:0} )\n",
        "        while e < self.V - 1:\n",
        "            u, v, w = self.graph[i]\n",
        "            i = i + 1\n",
        "            x = self.find(parent, u)\n",
        "            y = self.find(parent, v)\n",
        "            if x != y:\n",
        "                e = e + 1\n",
        "                result.append([u, v, w])\n",
        "                self.apply_union(parent, rank, x, y)\n",
        "        return result"
      ],
      "execution_count": null,
      "outputs": []
    },
    {
      "cell_type": "code",
      "metadata": {
        "id": "6oqDwCsDLbIn"
      },
      "source": [
        "g = Graph(edgesWeights,nodes,nodesLen)\n",
        "res = g.kruskal_algo()"
      ],
      "execution_count": null,
      "outputs": []
    },
    {
      "cell_type": "code",
      "metadata": {
        "id": "I67187QnSibZ",
        "colab": {
          "base_uri": "https://localhost:8080/",
          "height": 119
        },
        "outputId": "7b187394-ddf4-4d5e-ffe3-682379ac9dd7"
      },
      "source": [
        "print (\"Top five distinct collaborator pairs\")\n",
        "i=0\n",
        "for prof1,prof2,weight in res:\n",
        "  if(i==5):\n",
        "    break\n",
        "  print (\"'\",nodeNamesDict[prof1],\"'\", \"and '\",nodeNamesDict[prof2],\"'\", \" Their collaboration: \",weight,sep=\"\")\n",
        "  i+=1\n"
      ],
      "execution_count": null,
      "outputs": [
        {
          "output_type": "stream",
          "text": [
            "Top five distinct collaborator pairs\n",
            "'Tsutomu Hoshino'and 'Matt Bishop' Their collaboration: 426\n",
            "'Jagan Sankaranarayanan'and 'Ajay Kumar Todimala' Their collaboration: 360\n",
            "'Henri Prade'and 'Darren Rand' Their collaboration: 347\n",
            "'Jun Yu'and 'Haowei Liu' Their collaboration: 288\n",
            "'Stantanu Ganguly'and 'Suresh Thummalapenta' Their collaboration: 277\n"
          ],
          "name": "stdout"
        }
      ]
    },
    {
      "cell_type": "code",
      "metadata": {
        "id": "5Oo4pxH_S6Zn",
        "colab": {
          "base_uri": "https://localhost:8080/",
          "height": 34
        },
        "outputId": "a2cdc887-5f6f-468b-ace8-2a9943ef33b6"
      },
      "source": [
        "s = 0\n",
        "for i,j,weight in res:\n",
        "  s+=weight\n",
        "print(\"Total max weight of this spanning forest/tree is: \",s)  "
      ],
      "execution_count": null,
      "outputs": [
        {
          "output_type": "stream",
          "text": [
            "Total max weight of this spanning forest/tree is:  4096345\n"
          ],
          "name": "stdout"
        }
      ]
    },
    {
      "cell_type": "code",
      "metadata": {
        "id": "ntFAmpvcUpP1",
        "colab": {
          "base_uri": "https://localhost:8080/",
          "height": 34
        },
        "outputId": "496ddfc8-383c-452d-a97f-e1168a0d1298"
      },
      "source": [
        "np.sum(edgesWeights[:,2])"
      ],
      "execution_count": null,
      "outputs": [
        {
          "output_type": "execute_result",
          "data": {
            "text/plain": [
              "14103414"
            ]
          },
          "metadata": {
            "tags": []
          },
          "execution_count": 16
        }
      ]
    },
    {
      "cell_type": "code",
      "metadata": {
        "id": "-TVPyjSnTR0W",
        "colab": {
          "base_uri": "https://localhost:8080/",
          "height": 34
        },
        "outputId": "a810e02a-8542-462c-d5b1-50e6defd666f"
      },
      "source": [
        "nodeNamesDict[res[6][0]],nodeNamesDict[res[6][1]],weight"
      ],
      "execution_count": null,
      "outputs": [
        {
          "output_type": "execute_result",
          "data": {
            "text/plain": [
              "('Jingwen Jin', 'Boduo Li', 1)"
            ]
          },
          "metadata": {
            "tags": []
          },
          "execution_count": 34
        }
      ]
    },
    {
      "cell_type": "code",
      "metadata": {
        "id": "4xfn7fH6WVBK",
        "colab": {
          "base_uri": "https://localhost:8080/",
          "height": 54
        },
        "outputId": "02eea3e1-54a1-4616-ff17-f2fff862154f"
      },
      "source": [
        "print( res[0:100] )"
      ],
      "execution_count": null,
      "outputs": [
        {
          "output_type": "stream",
          "text": [
            "[[27133, 42540, 426], [39174, 50612, 360], [5647, 5648, 347], [66068, 66070, 288], [13449, 33487, 277], [39087, 39158, 274], [61297, 79462, 231], [49729, 56283, 224], [31350, 42094, 207], [29415, 86933, 202], [9286, 118506, 201], [105614, 106278, 197], [20419, 100840, 194], [11057, 64588, 193], [49729, 56282, 192], [5813, 5864, 188], [217487, 217529, 188], [134194, 304782, 188], [65724, 98456, 185], [87819, 87820, 181], [7737, 7738, 176], [867, 868, 175], [3034, 105692, 171], [11057, 65367, 170], [2836, 2837, 168], [8257, 11761, 168], [32055, 32057, 168], [77202, 193240, 168], [8574, 8575, 165], [90804, 90808, 165], [32056, 32057, 164], [49729, 50629, 163], [58425, 176774, 163], [12947, 30749, 161], [119836, 136539, 161], [3034, 3152, 160], [168988, 270284, 160], [164855, 164863, 158], [417, 683, 157], [4299, 4300, 156], [2987, 86238, 156], [30034, 134554, 156], [135, 136, 155], [30143, 89785, 155], [29190, 271555, 154], [819, 7146, 153], [28687, 46555, 153], [30615, 33799, 151], [99188, 99190, 150], [172803, 367340, 150], [11830, 11831, 149], [31882, 33799, 147], [189, 43288, 146], [110733, 110734, 146], [127298, 127300, 146], [80186, 167721, 146], [105845, 106434, 145], [11366, 11367, 144], [246, 6591, 143], [217693, 271454, 143], [124809, 124811, 142], [49729, 51161, 141], [45361, 78577, 141], [91824, 91825, 141], [115063, 115064, 141], [31802, 42339, 140], [3034, 26149, 139], [105600, 105601, 139], [9870, 9871, 138], [71011, 71013, 138], [54044, 75669, 138], [59168, 97147, 138], [87267, 136040, 138], [6308, 6310, 137], [39174, 49729, 136], [53188, 164957, 136], [11056, 11057, 135], [134353, 134354, 134], [63310, 63311, 133], [55548, 105562, 133], [39174, 50611, 132], [97569, 138871, 132], [349, 453, 131], [19386, 235603, 131], [38937, 38938, 130], [124814, 124816, 129], [8675, 11059, 128], [95596, 95597, 128], [124813, 124816, 128], [223720, 305453, 128], [8878, 8879, 127], [44635, 44636, 127], [105780, 105979, 127], [97569, 139836, 127], [204422, 204423, 127], [29430, 31613, 126], [32057, 91825, 126], [97356, 101135, 126], [120443, 383645, 126], [49727, 49729, 125]]\n"
          ],
          "name": "stdout"
        }
      ]
    }
  ]
}